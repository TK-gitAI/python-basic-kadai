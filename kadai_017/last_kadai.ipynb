{
  "nbformat": 4,
  "nbformat_minor": 0,
  "metadata": {
    "colab": {
      "provenance": []
    },
    "kernelspec": {
      "name": "python3",
      "display_name": "Python 3"
    },
    "language_info": {
      "name": "python"
    }
  },
  "cells": [
    {
      "cell_type": "code",
      "source": [
        "class Human:\n",
        "  def __init__(self, name, age):\n",
        "    self.name = name\n",
        "    self.age = age\n",
        "\n",
        "  def check_adult(self):\n",
        "    if self.age >= 20:\n",
        "      print(f'{self.name} は大人である')\n",
        "    else:\n",
        "      print(f'{self.name} は大人ではない')\n",
        "\n",
        "humanlist = [Human('太郎', 20),Human('二郎',17),Human('三郎',21)]\n",
        "\n",
        "for human in humanlist:\n",
        "    human.check_adult()"
      ],
      "metadata": {
        "colab": {
          "base_uri": "https://localhost:8080/"
        },
        "collapsed": true,
        "id": "f27RGPhGUzOh",
        "outputId": "92de61ad-0f42-48f7-a7a6-0b52cc25725b"
      },
      "execution_count": 11,
      "outputs": [
        {
          "output_type": "stream",
          "name": "stdout",
          "text": [
            "太郎 は大人である\n",
            "二郎 は大人ではない\n",
            "三郎 は大人である\n"
          ]
        }
      ]
    }
  ]
}