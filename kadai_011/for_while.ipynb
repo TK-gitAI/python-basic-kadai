{
  "nbformat": 4,
  "nbformat_minor": 0,
  "metadata": {
    "colab": {
      "provenance": []
    },
    "kernelspec": {
      "name": "python3",
      "display_name": "Python 3"
    },
    "language_info": {
      "name": "python"
    }
  },
  "cells": [
    {
      "cell_type": "code",
      "execution_count": 1,
      "metadata": {
        "colab": {
          "base_uri": "https://localhost:8080/"
        },
        "id": "UfxIi5MwdpGA",
        "outputId": "4cead731-6eb7-4465-bcec-18c8240b9864"
      },
      "outputs": [
        {
          "output_type": "stream",
          "name": "stdout",
          "text": [
            "水金地火木土天海冥\n",
            "水金地火木土天海冥\n"
          ]
        }
      ],
      "source": [
        "array = [\"水\",\"金\",\"地\",\"火\",\"木\",\"土\",\"天\",\"海\",\"冥\"]\n",
        "\n",
        "for _ in range(2):\n",
        "  for i in range(len(array)):\n",
        "    print(array[i],end=\"\")\n",
        "  print()"
      ]
    },
    {
      "cell_type": "code",
      "source": [
        "array = [\"水\",\"金\",\"地\",\"火\",\"木\",\"土\",\"天\",\"海\",\"冥\"]\n",
        "\n",
        "c = 0\n",
        "\n",
        "while c < len(array) * 2:\n",
        "  print(array[c % len(array)],end=\"\")\n",
        "  c += 1\n",
        "  if c % len(array) == 0:\n",
        "    print()\n"
      ],
      "metadata": {
        "colab": {
          "base_uri": "https://localhost:8080/"
        },
        "id": "pM4qPxt9qUXZ",
        "outputId": "edcec755-5ae2-4d05-aa92-d073adf87bf7"
      },
      "execution_count": 2,
      "outputs": [
        {
          "output_type": "stream",
          "name": "stdout",
          "text": [
            "水金地火木土天海冥\n",
            "水金地火木土天海冥\n"
          ]
        }
      ]
    }
  ]
}