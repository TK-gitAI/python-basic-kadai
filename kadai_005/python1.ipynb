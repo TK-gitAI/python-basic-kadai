{
  "nbformat": 4,
  "nbformat_minor": 0,
  "metadata": {
    "colab": {
      "provenance": []
    },
    "kernelspec": {
      "name": "python3",
      "display_name": "Python 3"
    },
    "language_info": {
      "name": "python"
    }
  },
  "cells": [
    {
      "cell_type": "code",
      "source": [
        "top_base = 10  # cm\n",
        "bottom_base = 20  # cm\n",
        "height = 5  # cm\n",
        "area = (top_base + bottom_base) * height / 2\n",
        "\n",
        "print(f\"{area} cm²\")"
      ],
      "metadata": {
        "colab": {
          "base_uri": "https://localhost:8080/"
        },
        "id": "XBe7CJuYwpFd",
        "outputId": "78ad35f8-6463-41be-9aea-f8b337e2bd8a"
      },
      "execution_count": 36,
      "outputs": [
        {
          "output_type": "stream",
          "name": "stdout",
          "text": [
            "75.0 cm²\n"
          ]
        }
      ]
    }
  ]
}