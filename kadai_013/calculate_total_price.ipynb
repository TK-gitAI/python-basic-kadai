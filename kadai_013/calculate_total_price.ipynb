{
  "nbformat": 4,
  "nbformat_minor": 0,
  "metadata": {
    "colab": {
      "provenance": []
    },
    "kernelspec": {
      "name": "python3",
      "display_name": "Python 3"
    },
    "language_info": {
      "name": "python"
    }
  },
  "cells": [
    {
      "cell_type": "code",
      "source": [
        "def calculate_total_price(price, tax_rate):\n",
        "\n",
        "    tax_amount = price * (tax_rate / 100)\n",
        "    total_price = price + tax_amount\n",
        "    return total_price\n",
        "\n",
        "price = 100\n",
        "tax_rate = 10\n",
        "total = calculate_total_price(price, tax_rate)\n",
        "print(f\"{int(total)} 円\")\n"
      ],
      "metadata": {
        "colab": {
          "base_uri": "https://localhost:8080/"
        },
        "id": "Z5Spc5c65o8U",
        "outputId": "eb07fc05-c127-45fe-adb4-cc8491161269"
      },
      "execution_count": 9,
      "outputs": [
        {
          "output_type": "stream",
          "name": "stdout",
          "text": [
            "110 円\n"
          ]
        }
      ]
    },
    {
      "cell_type": "markdown",
      "source": [],
      "metadata": {
        "id": "OeaIbcne6Y1Q"
      }
    }
  ]
}